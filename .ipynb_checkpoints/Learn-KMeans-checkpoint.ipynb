{
 "cells": [
  {
   "cell_type": "code",
   "execution_count": 37,
   "metadata": {},
   "outputs": [],
   "source": [
    "# Student Score with K-Means Clustering"
   ]
  },
  {
   "cell_type": "code",
   "execution_count": 38,
   "metadata": {},
   "outputs": [],
   "source": [
    "import pandas as pd\n",
    "import matplotlib.pyplot as plt"
   ]
  },
  {
   "cell_type": "code",
   "execution_count": 39,
   "metadata": {},
   "outputs": [],
   "source": [
    "# Read Dataset\n",
    "dfhs = pd.read_csv('nilaimahasiswa.csv', sep=';', engine='python')"
   ]
  },
  {
   "cell_type": "code",
   "execution_count": 40,
   "metadata": {},
   "outputs": [
    {
     "data": {
      "text/html": [
       "<div>\n",
       "<style scoped>\n",
       "    .dataframe tbody tr th:only-of-type {\n",
       "        vertical-align: middle;\n",
       "    }\n",
       "\n",
       "    .dataframe tbody tr th {\n",
       "        vertical-align: top;\n",
       "    }\n",
       "\n",
       "    .dataframe thead th {\n",
       "        text-align: right;\n",
       "    }\n",
       "</style>\n",
       "<table border=\"1\" class=\"dataframe\">\n",
       "  <thead>\n",
       "    <tr style=\"text-align: right;\">\n",
       "      <th></th>\n",
       "      <th>uts</th>\n",
       "      <th>uas</th>\n",
       "    </tr>\n",
       "  </thead>\n",
       "  <tbody>\n",
       "    <tr>\n",
       "      <th>count</th>\n",
       "      <td>50.000000</td>\n",
       "      <td>50.000000</td>\n",
       "    </tr>\n",
       "    <tr>\n",
       "      <th>mean</th>\n",
       "      <td>56.220000</td>\n",
       "      <td>60.960000</td>\n",
       "    </tr>\n",
       "    <tr>\n",
       "      <th>std</th>\n",
       "      <td>27.316953</td>\n",
       "      <td>25.235996</td>\n",
       "    </tr>\n",
       "    <tr>\n",
       "      <th>min</th>\n",
       "      <td>12.000000</td>\n",
       "      <td>0.000000</td>\n",
       "    </tr>\n",
       "    <tr>\n",
       "      <th>25%</th>\n",
       "      <td>30.250000</td>\n",
       "      <td>45.000000</td>\n",
       "    </tr>\n",
       "    <tr>\n",
       "      <th>50%</th>\n",
       "      <td>55.000000</td>\n",
       "      <td>56.000000</td>\n",
       "    </tr>\n",
       "    <tr>\n",
       "      <th>75%</th>\n",
       "      <td>71.500000</td>\n",
       "      <td>81.000000</td>\n",
       "    </tr>\n",
       "    <tr>\n",
       "      <th>max</th>\n",
       "      <td>100.000000</td>\n",
       "      <td>100.000000</td>\n",
       "    </tr>\n",
       "  </tbody>\n",
       "</table>\n",
       "</div>"
      ],
      "text/plain": [
       "              uts         uas\n",
       "count   50.000000   50.000000\n",
       "mean    56.220000   60.960000\n",
       "std     27.316953   25.235996\n",
       "min     12.000000    0.000000\n",
       "25%     30.250000   45.000000\n",
       "50%     55.000000   56.000000\n",
       "75%     71.500000   81.000000\n",
       "max    100.000000  100.000000"
      ]
     },
     "execution_count": 40,
     "metadata": {},
     "output_type": "execute_result"
    }
   ],
   "source": [
    "dfhs.describe()"
   ]
  },
  {
   "cell_type": "code",
   "execution_count": 41,
   "metadata": {},
   "outputs": [
    {
     "name": "stdout",
     "output_type": "stream",
     "text": [
      "<class 'pandas.core.frame.DataFrame'>\n",
      "RangeIndex: 50 entries, 0 to 49\n",
      "Data columns (total 3 columns):\n",
      " #   Column     Non-Null Count  Dtype \n",
      "---  ------     --------------  ----- \n",
      " 0   Mahasiswa  50 non-null     object\n",
      " 1   uts        50 non-null     int64 \n",
      " 2   uas        50 non-null     int64 \n",
      "dtypes: int64(2), object(1)\n",
      "memory usage: 1.3+ KB\n"
     ]
    }
   ],
   "source": [
    "dfhs.info()"
   ]
  },
  {
   "cell_type": "code",
   "execution_count": 42,
   "metadata": {},
   "outputs": [
    {
     "data": {
      "text/plain": [
       "Text(0.5, 1.0, 'Grafik Nilai Mahasiwa')"
      ]
     },
     "execution_count": 42,
     "metadata": {},
     "output_type": "execute_result"
    },
    {
     "data": {
      "image/png": "[encoded data removed]",
      "text/plain": [
       "<Figure size 432x288 with 1 Axes>"
      ]
     },
     "metadata": {
      "needs_background": "light"
     },
     "output_type": "display_data"
    }
   ],
   "source": [
    "plt.scatter(dfhs['uts'], dfhs['uas'])\n",
    "plt.xlabel('uts')\n",
    "plt.ylabel('uas')\n",
    "plt.title('Grafik Nilai Mahasiwa')"
   ]
  },
  {
   "cell_type": "code",
   "execution_count": 43,
   "metadata": {},
   "outputs": [],
   "source": [
    "# Data Training\n",
    "x_train = dfhs[['uts', 'uas']].values"
   ]
  },
  {
   "cell_type": "code",
   "execution_count": 44,
   "metadata": {},
   "outputs": [
    {
     "data": {
      "text/plain": [
       "array([[ 15,  46],\n",
       "       [ 66,  77],\n",
       "       [ 25,  33],\n",
       "       [ 53,  81],\n",
       "       [ 20,  75],\n",
       "       [100,  94],\n",
       "       [ 55,  69],\n",
       "       [ 25,  56],\n",
       "       [ 25,  81],\n",
       "       [ 30,  48],\n",
       "       [ 15,  45],\n",
       "       [ 81,  46],\n",
       "       [ 68,  77],\n",
       "       [ 72,  50],\n",
       "       [ 56,  56],\n",
       "       [ 63,  63],\n",
       "       [100,  69],\n",
       "       [ 35,  56],\n",
       "       [ 55,  33],\n",
       "       [ 31,  21],\n",
       "       [ 55,  22],\n",
       "       [ 70,  85],\n",
       "       [ 30,  15],\n",
       "       [ 25,  81],\n",
       "       [ 12,  42],\n",
       "       [ 20,  24],\n",
       "       [ 72,  94],\n",
       "       [ 25,   0],\n",
       "       [ 91,  54],\n",
       "       [ 60,  88],\n",
       "       [ 45,  54],\n",
       "       [ 70,  56],\n",
       "       [100,  63],\n",
       "       [ 45,  45],\n",
       "       [ 45,  54],\n",
       "       [ 70,  88],\n",
       "       [ 45,  45],\n",
       "       [ 70,  20],\n",
       "       [100,  81],\n",
       "       [100,  96],\n",
       "       [100, 100],\n",
       "       [ 45,  38],\n",
       "       [ 66,  88],\n",
       "       [100,  96],\n",
       "       [ 54,  98],\n",
       "       [ 20,  45],\n",
       "       [ 91,  96],\n",
       "       [ 41,  54],\n",
       "       [ 70,  88],\n",
       "       [ 84,  62]], dtype=int64)"
      ]
     },
     "execution_count": 44,
     "metadata": {},
     "output_type": "execute_result"
    }
   ],
   "source": [
    "x_train"
   ]
  },
  {
   "cell_type": "code",
   "execution_count": 45,
   "metadata": {},
   "outputs": [],
   "source": [
    "# Feature Scaling\n",
    "from sklearn.preprocessing import MinMaxScaler\n",
    "scaler = MinMaxScaler()\n",
    "x_train = scaler.fit_transform(x_train)"
   ]
  },
  {
   "cell_type": "code",
   "execution_count": 46,
   "metadata": {},
   "outputs": [
    {
     "data": {
      "text/plain": [
       "array([[0.03409091, 0.46      ],\n",
       "       [0.61363636, 0.77      ],\n",
       "       [0.14772727, 0.33      ],\n",
       "       [0.46590909, 0.81      ],\n",
       "       [0.09090909, 0.75      ],\n",
       "       [1.        , 0.94      ],\n",
       "       [0.48863636, 0.69      ],\n",
       "       [0.14772727, 0.56      ],\n",
       "       [0.14772727, 0.81      ],\n",
       "       [0.20454545, 0.48      ],\n",
       "       [0.03409091, 0.45      ],\n",
       "       [0.78409091, 0.46      ],\n",
       "       [0.63636364, 0.77      ],\n",
       "       [0.68181818, 0.5       ],\n",
       "       [0.5       , 0.56      ],\n",
       "       [0.57954545, 0.63      ],\n",
       "       [1.        , 0.69      ],\n",
       "       [0.26136364, 0.56      ],\n",
       "       [0.48863636, 0.33      ],\n",
       "       [0.21590909, 0.21      ],\n",
       "       [0.48863636, 0.22      ],\n",
       "       [0.65909091, 0.85      ],\n",
       "       [0.20454545, 0.15      ],\n",
       "       [0.14772727, 0.81      ],\n",
       "       [0.        , 0.42      ],\n",
       "       [0.09090909, 0.24      ],\n",
       "       [0.68181818, 0.94      ],\n",
       "       [0.14772727, 0.        ],\n",
       "       [0.89772727, 0.54      ],\n",
       "       [0.54545455, 0.88      ],\n",
       "       [0.375     , 0.54      ],\n",
       "       [0.65909091, 0.56      ],\n",
       "       [1.        , 0.63      ],\n",
       "       [0.375     , 0.45      ],\n",
       "       [0.375     , 0.54      ],\n",
       "       [0.65909091, 0.88      ],\n",
       "       [0.375     , 0.45      ],\n",
       "       [0.65909091, 0.2       ],\n",
       "       [1.        , 0.81      ],\n",
       "       [1.        , 0.96      ],\n",
       "       [1.        , 1.        ],\n",
       "       [0.375     , 0.38      ],\n",
       "       [0.61363636, 0.88      ],\n",
       "       [1.        , 0.96      ],\n",
       "       [0.47727273, 0.98      ],\n",
       "       [0.09090909, 0.45      ],\n",
       "       [0.89772727, 0.96      ],\n",
       "       [0.32954545, 0.54      ],\n",
       "       [0.65909091, 0.88      ],\n",
       "       [0.81818182, 0.62      ]])"
      ]
     },
     "execution_count": 46,
     "metadata": {},
     "output_type": "execute_result"
    }
   ],
   "source": [
    "x_train"
   ]
  },
  {
   "cell_type": "code",
   "execution_count": 47,
   "metadata": {},
   "outputs": [
    {
     "data": {
      "text/plain": [
       "KMeans(n_clusters=2)"
      ]
     },
     "execution_count": 47,
     "metadata": {},
     "output_type": "execute_result"
    }
   ],
   "source": [
    "# Clustering\n",
    "from sklearn.cluster import KMeans\n",
    "kmean = KMeans(n_clusters=2)\n",
    "kmean"
   ]
  },
  {
   "cell_type": "code",
   "execution_count": 48,
   "metadata": {},
   "outputs": [
    {
     "data": {
      "text/plain": [
       "array([0, 1, 0, 1, 0, 1, 1, 0, 0, 0, 0, 1, 1, 1, 0, 1, 1, 0, 0, 0, 0, 1,\n",
       "       0, 0, 0, 0, 1, 0, 1, 1, 0, 1, 1, 0, 0, 1, 0, 0, 1, 1, 1, 0, 1, 1,\n",
       "       1, 0, 1, 0, 1, 1])"
      ]
     },
     "execution_count": 48,
     "metadata": {},
     "output_type": "execute_result"
    }
   ],
   "source": [
    "y_cluster = kmean.fit_predict(x_train)\n",
    "y_cluster"
   ]
  },
  {
   "cell_type": "code",
   "execution_count": 49,
   "metadata": {},
   "outputs": [
    {
     "data": {
      "text/html": [
       "<div>\n",
       "<style scoped>\n",
       "    .dataframe tbody tr th:only-of-type {\n",
       "        vertical-align: middle;\n",
       "    }\n",
       "\n",
       "    .dataframe tbody tr th {\n",
       "        vertical-align: top;\n",
       "    }\n",
       "\n",
       "    .dataframe thead th {\n",
       "        text-align: right;\n",
       "    }\n",
       "</style>\n",
       "<table border=\"1\" class=\"dataframe\">\n",
       "  <thead>\n",
       "    <tr style=\"text-align: right;\">\n",
       "      <th></th>\n",
       "      <th>Mahasiswa</th>\n",
       "      <th>uts</th>\n",
       "      <th>uas</th>\n",
       "      <th>cluster</th>\n",
       "    </tr>\n",
       "  </thead>\n",
       "  <tbody>\n",
       "    <tr>\n",
       "      <th>0</th>\n",
       "      <td>AHMAD</td>\n",
       "      <td>15</td>\n",
       "      <td>46</td>\n",
       "      <td>0</td>\n",
       "    </tr>\n",
       "    <tr>\n",
       "      <th>1</th>\n",
       "      <td>ARFENDO</td>\n",
       "      <td>66</td>\n",
       "      <td>77</td>\n",
       "      <td>1</td>\n",
       "    </tr>\n",
       "    <tr>\n",
       "      <th>2</th>\n",
       "      <td>LATIFUDIN</td>\n",
       "      <td>25</td>\n",
       "      <td>33</td>\n",
       "      <td>0</td>\n",
       "    </tr>\n",
       "    <tr>\n",
       "      <th>3</th>\n",
       "      <td>HENDI</td>\n",
       "      <td>53</td>\n",
       "      <td>81</td>\n",
       "      <td>1</td>\n",
       "    </tr>\n",
       "    <tr>\n",
       "      <th>4</th>\n",
       "      <td>M. FERYAN</td>\n",
       "      <td>20</td>\n",
       "      <td>75</td>\n",
       "      <td>0</td>\n",
       "    </tr>\n",
       "    <tr>\n",
       "      <th>5</th>\n",
       "      <td>RENDI</td>\n",
       "      <td>100</td>\n",
       "      <td>94</td>\n",
       "      <td>1</td>\n",
       "    </tr>\n",
       "    <tr>\n",
       "      <th>6</th>\n",
       "      <td>NUREKA</td>\n",
       "      <td>55</td>\n",
       "      <td>69</td>\n",
       "      <td>1</td>\n",
       "    </tr>\n",
       "    <tr>\n",
       "      <th>7</th>\n",
       "      <td>INDRA</td>\n",
       "      <td>25</td>\n",
       "      <td>56</td>\n",
       "      <td>0</td>\n",
       "    </tr>\n",
       "    <tr>\n",
       "      <th>8</th>\n",
       "      <td>MOCH IDWAL</td>\n",
       "      <td>25</td>\n",
       "      <td>81</td>\n",
       "      <td>0</td>\n",
       "    </tr>\n",
       "    <tr>\n",
       "      <th>9</th>\n",
       "      <td>REYNO YUSUF</td>\n",
       "      <td>30</td>\n",
       "      <td>48</td>\n",
       "      <td>0</td>\n",
       "    </tr>\n",
       "    <tr>\n",
       "      <th>10</th>\n",
       "      <td>AHMAD MINANUL</td>\n",
       "      <td>15</td>\n",
       "      <td>45</td>\n",
       "      <td>0</td>\n",
       "    </tr>\n",
       "    <tr>\n",
       "      <th>11</th>\n",
       "      <td>AFIZZA</td>\n",
       "      <td>81</td>\n",
       "      <td>46</td>\n",
       "      <td>1</td>\n",
       "    </tr>\n",
       "    <tr>\n",
       "      <th>12</th>\n",
       "      <td>RIO</td>\n",
       "      <td>68</td>\n",
       "      <td>77</td>\n",
       "      <td>1</td>\n",
       "    </tr>\n",
       "    <tr>\n",
       "      <th>13</th>\n",
       "      <td>MUKHOZIN</td>\n",
       "      <td>72</td>\n",
       "      <td>50</td>\n",
       "      <td>1</td>\n",
       "    </tr>\n",
       "    <tr>\n",
       "      <th>14</th>\n",
       "      <td>ANDY</td>\n",
       "      <td>56</td>\n",
       "      <td>56</td>\n",
       "      <td>0</td>\n",
       "    </tr>\n",
       "    <tr>\n",
       "      <th>15</th>\n",
       "      <td>STIFEN ZURO</td>\n",
       "      <td>63</td>\n",
       "      <td>63</td>\n",
       "      <td>1</td>\n",
       "    </tr>\n",
       "    <tr>\n",
       "      <th>16</th>\n",
       "      <td>ROHMAT</td>\n",
       "      <td>100</td>\n",
       "      <td>69</td>\n",
       "      <td>1</td>\n",
       "    </tr>\n",
       "    <tr>\n",
       "      <th>17</th>\n",
       "      <td>SAFRUDINI</td>\n",
       "      <td>35</td>\n",
       "      <td>56</td>\n",
       "      <td>0</td>\n",
       "    </tr>\n",
       "    <tr>\n",
       "      <th>18</th>\n",
       "      <td>AFRIZAL AHMAD</td>\n",
       "      <td>55</td>\n",
       "      <td>33</td>\n",
       "      <td>0</td>\n",
       "    </tr>\n",
       "    <tr>\n",
       "      <th>19</th>\n",
       "      <td>MOHAMMAD HASIB</td>\n",
       "      <td>31</td>\n",
       "      <td>21</td>\n",
       "      <td>0</td>\n",
       "    </tr>\n",
       "    <tr>\n",
       "      <th>20</th>\n",
       "      <td>MUHAMMAD ENRICO</td>\n",
       "      <td>55</td>\n",
       "      <td>22</td>\n",
       "      <td>0</td>\n",
       "    </tr>\n",
       "    <tr>\n",
       "      <th>21</th>\n",
       "      <td>MOH. LUKKY</td>\n",
       "      <td>70</td>\n",
       "      <td>85</td>\n",
       "      <td>1</td>\n",
       "    </tr>\n",
       "    <tr>\n",
       "      <th>22</th>\n",
       "      <td>ADI ARISANDI</td>\n",
       "      <td>30</td>\n",
       "      <td>15</td>\n",
       "      <td>0</td>\n",
       "    </tr>\n",
       "    <tr>\n",
       "      <th>23</th>\n",
       "      <td>M LIBAA</td>\n",
       "      <td>25</td>\n",
       "      <td>81</td>\n",
       "      <td>0</td>\n",
       "    </tr>\n",
       "    <tr>\n",
       "      <th>24</th>\n",
       "      <td>ALIF NUZULUR</td>\n",
       "      <td>12</td>\n",
       "      <td>42</td>\n",
       "      <td>0</td>\n",
       "    </tr>\n",
       "    <tr>\n",
       "      <th>25</th>\n",
       "      <td>YOGA PERMATA</td>\n",
       "      <td>20</td>\n",
       "      <td>24</td>\n",
       "      <td>0</td>\n",
       "    </tr>\n",
       "    <tr>\n",
       "      <th>26</th>\n",
       "      <td>MOH. TAUFIK</td>\n",
       "      <td>72</td>\n",
       "      <td>94</td>\n",
       "      <td>1</td>\n",
       "    </tr>\n",
       "    <tr>\n",
       "      <th>27</th>\n",
       "      <td>DRAJAT AL AKBAR</td>\n",
       "      <td>25</td>\n",
       "      <td>0</td>\n",
       "      <td>0</td>\n",
       "    </tr>\n",
       "    <tr>\n",
       "      <th>28</th>\n",
       "      <td>MUHAMMAD ARDY</td>\n",
       "      <td>91</td>\n",
       "      <td>54</td>\n",
       "      <td>1</td>\n",
       "    </tr>\n",
       "    <tr>\n",
       "      <th>29</th>\n",
       "      <td>DWI BAGUS</td>\n",
       "      <td>60</td>\n",
       "      <td>88</td>\n",
       "      <td>1</td>\n",
       "    </tr>\n",
       "    <tr>\n",
       "      <th>30</th>\n",
       "      <td>SATRIA WAHYU</td>\n",
       "      <td>45</td>\n",
       "      <td>54</td>\n",
       "      <td>0</td>\n",
       "    </tr>\n",
       "    <tr>\n",
       "      <th>31</th>\n",
       "      <td>MOCH. ARIS</td>\n",
       "      <td>70</td>\n",
       "      <td>56</td>\n",
       "      <td>1</td>\n",
       "    </tr>\n",
       "    <tr>\n",
       "      <th>32</th>\n",
       "      <td>AQIL ALMUFARRID</td>\n",
       "      <td>100</td>\n",
       "      <td>63</td>\n",
       "      <td>1</td>\n",
       "    </tr>\n",
       "    <tr>\n",
       "      <th>33</th>\n",
       "      <td>ADHI NOVIANDHI</td>\n",
       "      <td>45</td>\n",
       "      <td>45</td>\n",
       "      <td>0</td>\n",
       "    </tr>\n",
       "    <tr>\n",
       "      <th>34</th>\n",
       "      <td>NIKEN</td>\n",
       "      <td>45</td>\n",
       "      <td>54</td>\n",
       "      <td>0</td>\n",
       "    </tr>\n",
       "    <tr>\n",
       "      <th>35</th>\n",
       "      <td>MOHAMMAD AZIZ</td>\n",
       "      <td>70</td>\n",
       "      <td>88</td>\n",
       "      <td>1</td>\n",
       "    </tr>\n",
       "    <tr>\n",
       "      <th>36</th>\n",
       "      <td>BADIYAH</td>\n",
       "      <td>45</td>\n",
       "      <td>45</td>\n",
       "      <td>0</td>\n",
       "    </tr>\n",
       "    <tr>\n",
       "      <th>37</th>\n",
       "      <td>M. RISKI</td>\n",
       "      <td>70</td>\n",
       "      <td>20</td>\n",
       "      <td>0</td>\n",
       "    </tr>\n",
       "    <tr>\n",
       "      <th>38</th>\n",
       "      <td>RIZAL DWI</td>\n",
       "      <td>100</td>\n",
       "      <td>81</td>\n",
       "      <td>1</td>\n",
       "    </tr>\n",
       "    <tr>\n",
       "      <th>39</th>\n",
       "      <td>RICKO</td>\n",
       "      <td>100</td>\n",
       "      <td>96</td>\n",
       "      <td>1</td>\n",
       "    </tr>\n",
       "    <tr>\n",
       "      <th>40</th>\n",
       "      <td>NUR SAM'UN</td>\n",
       "      <td>100</td>\n",
       "      <td>100</td>\n",
       "      <td>1</td>\n",
       "    </tr>\n",
       "    <tr>\n",
       "      <th>41</th>\n",
       "      <td>DIMAS GILANG</td>\n",
       "      <td>45</td>\n",
       "      <td>38</td>\n",
       "      <td>0</td>\n",
       "    </tr>\n",
       "    <tr>\n",
       "      <th>42</th>\n",
       "      <td>MUH. FADLIL</td>\n",
       "      <td>66</td>\n",
       "      <td>88</td>\n",
       "      <td>1</td>\n",
       "    </tr>\n",
       "    <tr>\n",
       "      <th>43</th>\n",
       "      <td>AL FAROSA</td>\n",
       "      <td>100</td>\n",
       "      <td>96</td>\n",
       "      <td>1</td>\n",
       "    </tr>\n",
       "    <tr>\n",
       "      <th>44</th>\n",
       "      <td>MIFTAH AHNAN</td>\n",
       "      <td>54</td>\n",
       "      <td>98</td>\n",
       "      <td>1</td>\n",
       "    </tr>\n",
       "    <tr>\n",
       "      <th>45</th>\n",
       "      <td>GIGIH JENOP</td>\n",
       "      <td>20</td>\n",
       "      <td>45</td>\n",
       "      <td>0</td>\n",
       "    </tr>\n",
       "    <tr>\n",
       "      <th>46</th>\n",
       "      <td>WAHYU</td>\n",
       "      <td>91</td>\n",
       "      <td>96</td>\n",
       "      <td>1</td>\n",
       "    </tr>\n",
       "    <tr>\n",
       "      <th>47</th>\n",
       "      <td>FATMA</td>\n",
       "      <td>41</td>\n",
       "      <td>54</td>\n",
       "      <td>0</td>\n",
       "    </tr>\n",
       "    <tr>\n",
       "      <th>48</th>\n",
       "      <td>ALISA</td>\n",
       "      <td>70</td>\n",
       "      <td>88</td>\n",
       "      <td>1</td>\n",
       "    </tr>\n",
       "    <tr>\n",
       "      <th>49</th>\n",
       "      <td>DIRGANTARA</td>\n",
       "      <td>84</td>\n",
       "      <td>62</td>\n",
       "      <td>1</td>\n",
       "    </tr>\n",
       "  </tbody>\n",
       "</table>\n",
       "</div>"
      ],
      "text/plain": [
       "          Mahasiswa  uts  uas  cluster\n",
       "0             AHMAD   15   46        0\n",
       "1           ARFENDO   66   77        1\n",
       "2         LATIFUDIN   25   33        0\n",
       "3             HENDI   53   81        1\n",
       "4         M. FERYAN   20   75        0\n",
       "5             RENDI  100   94        1\n",
       "6            NUREKA   55   69        1\n",
       "7             INDRA   25   56        0\n",
       "8        MOCH IDWAL   25   81        0\n",
       "9       REYNO YUSUF   30   48        0\n",
       "10    AHMAD MINANUL   15   45        0\n",
       "11           AFIZZA   81   46        1\n",
       "12              RIO   68   77        1\n",
       "13         MUKHOZIN   72   50        1\n",
       "14             ANDY   56   56        0\n",
       "15      STIFEN ZURO   63   63        1\n",
       "16           ROHMAT  100   69        1\n",
       "17        SAFRUDINI   35   56        0\n",
       "18    AFRIZAL AHMAD   55   33        0\n",
       "19   MOHAMMAD HASIB   31   21        0\n",
       "20  MUHAMMAD ENRICO   55   22        0\n",
       "21       MOH. LUKKY   70   85        1\n",
       "22     ADI ARISANDI   30   15        0\n",
       "23          M LIBAA   25   81        0\n",
       "24     ALIF NUZULUR   12   42        0\n",
       "25     YOGA PERMATA   20   24        0\n",
       "26      MOH. TAUFIK   72   94        1\n",
       "27  DRAJAT AL AKBAR   25    0        0\n",
       "28    MUHAMMAD ARDY   91   54        1\n",
       "29        DWI BAGUS   60   88        1\n",
       "30     SATRIA WAHYU   45   54        0\n",
       "31       MOCH. ARIS   70   56        1\n",
       "32  AQIL ALMUFARRID  100   63        1\n",
       "33   ADHI NOVIANDHI   45   45        0\n",
       "34            NIKEN   45   54        0\n",
       "35    MOHAMMAD AZIZ   70   88        1\n",
       "36          BADIYAH   45   45        0\n",
       "37         M. RISKI   70   20        0\n",
       "38        RIZAL DWI  100   81        1\n",
       "39            RICKO  100   96        1\n",
       "40       NUR SAM'UN  100  100        1\n",
       "41     DIMAS GILANG   45   38        0\n",
       "42      MUH. FADLIL   66   88        1\n",
       "43        AL FAROSA  100   96        1\n",
       "44     MIFTAH AHNAN   54   98        1\n",
       "45      GIGIH JENOP   20   45        0\n",
       "46            WAHYU   91   96        1\n",
       "47            FATMA   41   54        0\n",
       "48            ALISA   70   88        1\n",
       "49       DIRGANTARA   84   62        1"
      ]
     },
     "execution_count": 49,
     "metadata": {},
     "output_type": "execute_result"
    }
   ],
   "source": [
    "dfhs['cluster'] = y_cluster\n",
    "dfhs"
   ]
  },
  {
   "cell_type": "code",
   "execution_count": 50,
   "metadata": {},
   "outputs": [
    {
     "data": {
      "text/plain": [
       "array([[0.25227273, 0.4356    ],\n",
       "       [0.75272727, 0.7836    ]])"
      ]
     },
     "execution_count": 50,
     "metadata": {},
     "output_type": "execute_result"
    }
   ],
   "source": [
    "kmean.cluster_centers_"
   ]
  },
  {
   "cell_type": "code",
   "execution_count": 51,
   "metadata": {},
   "outputs": [
    {
     "data": {
      "text/plain": [
       "<matplotlib.legend.Legend at 0x1b5b6353220>"
      ]
     },
     "execution_count": 51,
     "metadata": {},
     "output_type": "execute_result"
    },
    {
     "data": {
      "image/png": "[encoded data removed]",
      "text/plain": [
       "<Figure size 720x360 with 1 Axes>"
      ]
     },
     "metadata": {
      "needs_background": "light"
     },
     "output_type": "display_data"
    }
   ],
   "source": [
    "# Visualization Clustering\n",
    "plt.figure(figsize=(10,5))\n",
    "plt.scatter(x_train[:,0],x_train[:,1],c=kmean.labels_)\n",
    "plt.scatter(kmean.cluster_centers_[0,0], kmean.cluster_centers_[0,1],cmap='rainbow', marker='*',s=150, label='Centroid 0')\n",
    "plt.scatter(kmean.cluster_centers_[1,0], kmean.cluster_centers_[1,1],cmap='rainbow', marker='*',s=150, label='Centroid 1')\n",
    "# plt.scatter(kmean.cluster_centers_[2,0], kmean.cluster_centers_[2,1],cmap='rainbow', marker='*',s=150, label='Centroid 2')\n",
    "plt.xlabel('uts')\n",
    "plt.ylabel('uas')\n",
    "plt.legend()"
   ]
  },
  {
   "cell_type": "code",
   "execution_count": 52,
   "metadata": {},
   "outputs": [
    {
     "name": "stderr",
     "output_type": "stream",
     "text": [
      "C:\\Users\\ikhwa\\anaconda3\\lib\\site-packages\\sklearn\\cluster\\_kmeans.py:881: UserWarning: KMeans is known to have a memory leak on Windows with MKL, when there are less chunks than available threads. You can avoid it by setting the environment variable OMP_NUM_THREADS=1.\n",
      "  warnings.warn(\n"
     ]
    },
    {
     "data": {
      "text/plain": [
       "[7.842257805785125,\n",
       " 3.197773404958677,\n",
       " 2.4267319466388484,\n",
       " 1.7689382660832926,\n",
       " 1.3265220854524267,\n",
       " 0.9647108338252659,\n",
       " 0.7820507052669553,\n",
       " 0.5653348005214484,\n",
       " 0.4343802083333336]"
      ]
     },
     "execution_count": 52,
     "metadata": {},
     "output_type": "execute_result"
    }
   ],
   "source": [
    "# Looking for the best k value\n",
    "inertias = []\n",
    "k_range = range(1,10)\n",
    "for k in k_range:\n",
    "    km = KMeans(n_clusters=k).fit(x_train)\n",
    "    inertias.append(km.inertia_)\n",
    "inertias"
   ]
  },
  {
   "cell_type": "code",
   "execution_count": 53,
   "metadata": {},
   "outputs": [
    {
     "data": {
      "image/png": "[encoded data removed]",
      "text/plain": [
       "<Figure size 432x288 with 1 Axes>"
      ]
     },
     "metadata": {
      "needs_background": "light"
     },
     "output_type": "display_data"
    }
   ],
   "source": [
    "plt.xlabel('k')\n",
    "plt.ylabel('Sum of Error')\n",
    "plt.plot(k_range, inertias)\n",
    "plt.grid()"
   ]
  },
  {
   "cell_type": "code",
   "execution_count": null,
   "metadata": {},
   "outputs": [],
   "source": [
    "dfhs['cluster'] = dfhs['cluster'].replace([0,1],['Kurang', 'Baik'])"
   ]
  }
 ],
 "metadata": {
  "colab": {
   "collapsed_sections": [],
   "name": "Kmeans.ipynb",
   "provenance": []
  },
  "kernelspec": {
   "display_name": "Python 3 (ipykernel)",
   "language": "python",
   "name": "python3"
  },
  "language_info": {
   "codemirror_mode": {
    "name": "ipython",
    "version": 3
   },
   "file_extension": ".py",
   "mimetype": "text/x-python",
   "name": "python",
   "nbconvert_exporter": "python",
   "pygments_lexer": "ipython3",
   "version": "3.9.7"
  }
 },
 "nbformat": 4,
 "nbformat_minor": 1
}
